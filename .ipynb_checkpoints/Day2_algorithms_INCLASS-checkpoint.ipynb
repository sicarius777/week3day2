{
 "cells": [
  {
   "cell_type": "markdown",
   "metadata": {},
   "source": [
    "# Algorithms, Binary Search & Linked Lists"
   ]
  },
  {
   "cell_type": "markdown",
   "metadata": {},
   "source": [
    "## Tasks Today:\n",
    " \n",
    "1) <b>In-Place Algorithms</b> <br>\n",
    " &nbsp;&nbsp;&nbsp;&nbsp; a) Syntax <br>\n",
    " &nbsp;&nbsp;&nbsp;&nbsp; a) Out of Place Algorithm <br>\n",
    " &nbsp;&nbsp;&nbsp;&nbsp; b) In-Class Exercise #1 <br>\n",
    "2) <b>Two Pointers</b> <br>\n",
    "3) <b>Linked Lists</b> <br>\n",
    "4) <b>Merge Sort</b> <br>\n",
    " &nbsp;&nbsp;&nbsp;&nbsp; a) Video on Algorithms <br>\n",
    " &nbsp;&nbsp;&nbsp;&nbsp; b) How it Works <br>\n",
    "5) <b>Exercises</b> <br>\n",
    " &nbsp;&nbsp;&nbsp;&nbsp; a) Exercise #1 - Reverse a List in Place Using an In-Place Algorithm <br>\n",
    " &nbsp;&nbsp;&nbsp;&nbsp; b) Exercise #2 - Find Distinct Words <br>\n",
    " &nbsp;&nbsp;&nbsp;&nbsp; c) Exercise #3 - Write a program to implement a Linear Search Algorithm. <br>"
   ]
  },
  {
   "cell_type": "markdown",
   "metadata": {},
   "source": [
    "## In-Place Algorithms"
   ]
  },
  {
   "cell_type": "markdown",
   "metadata": {},
   "source": [
    "#### Syntax"
   ]
  },
  {
   "cell_type": "code",
   "execution_count": 1,
   "metadata": {},
   "outputs": [
    {
     "name": "stdout",
     "output_type": "stream",
     "text": [
      "[2, 3, 4, 8, 9]\n"
     ]
    }
   ],
   "source": [
    "nums= [9,3,2,8,4]\n",
    "\n",
    "nums.sort()\n",
    "\n",
    "print(nums)\n",
    "\n",
    "def reverse_in_place(nums):\n",
    "    left_point = 0\n",
    "    right_point = -1\n",
    "    "
   ]
  },
  {
   "cell_type": "markdown",
   "metadata": {},
   "source": [
    "#### Out of Place Algorithm"
   ]
  },
  {
   "cell_type": "code",
   "execution_count": 2,
   "metadata": {},
   "outputs": [
    {
     "ename": "NameError",
     "evalue": "name 'sorted_nums2' is not defined",
     "output_type": "error",
     "traceback": [
      "\u001b[1;31m---------------------------------------------------------------------------\u001b[0m",
      "\u001b[1;31mNameError\u001b[0m                                 Traceback (most recent call last)",
      "Cell \u001b[1;32mIn[2], line 5\u001b[0m\n\u001b[0;32m      1\u001b[0m nums2 \u001b[38;5;241m=\u001b[39m [\u001b[38;5;241m9\u001b[39m,\u001b[38;5;241m3\u001b[39m,\u001b[38;5;241m2\u001b[39m,\u001b[38;5;241m8\u001b[39m,\u001b[38;5;241m4\u001b[39m]\n\u001b[0;32m      3\u001b[0m sorted_nums \u001b[38;5;241m=\u001b[39m \u001b[38;5;28msorted\u001b[39m(nums2)\n\u001b[1;32m----> 5\u001b[0m \u001b[38;5;28mprint\u001b[39m(sorted_nums2)\n\u001b[0;32m      6\u001b[0m \u001b[38;5;28mprint\u001b[39m(nums2)\n",
      "\u001b[1;31mNameError\u001b[0m: name 'sorted_nums2' is not defined"
     ]
    }
   ],
   "source": [
    "nums2 = [9,3,2,8,4]\n",
    "\n",
    "sorted_nums = sorted(nums2)\n",
    "\n",
    "print(sorted_nums2)\n",
    "print(nums2)\n"
   ]
  },
  {
   "cell_type": "markdown",
   "metadata": {},
   "source": [
    "#### In-Class Exercise #1 <br>\n",
    "<p>Write a function that takes in four arguments (list, index1, index2, index3), and swaps those three positions in the list passed in.</p>"
   ]
  },
  {
   "cell_type": "code",
   "execution_count": 3,
   "metadata": {},
   "outputs": [
    {
     "name": "stdout",
     "output_type": "stream",
     "text": [
      "List after swapping: [10, 4, 3, 4, 8, 2, 6]\n"
     ]
    }
   ],
   "source": [
    "def swap_positions(my_list, index1, index2, index3):\n",
    "    if 0 <= index1 < len(my_list) and 0 <= index2 < len(my_list) and 0 <= index3 < len(my_list):\n",
    "        # Swap the values at the specified indices\n",
    "        my_list[index1], my_list[index2], my_list[index3] = my_list[index3], my_list[index1], my_list[index2]\n",
    "        return my_list\n",
    "    else:\n",
    "        print(\"Invalid indices. Please provide valid indices within the range of the list.\")\n",
    "        return None\n",
    "\n",
    "l_1 = [10, 4, 3, 8, 4, 2, 6]\n",
    "index1, index2, index3 = 1, 3, 4\n",
    "result = swap_positions(l_1, index1, index2, index3)\n",
    "\n",
    "if result is not None:\n",
    "    print(\"List after swapping:\", result)\n"
   ]
  },
  {
   "cell_type": "markdown",
   "metadata": {},
   "source": [
    "## Two Pointers"
   ]
  },
  {
   "cell_type": "markdown",
   "metadata": {},
   "source": [
    "#### Syntax"
   ]
  },
  {
   "cell_type": "code",
   "execution_count": null,
   "metadata": {},
   "outputs": [],
   "source": []
  },
  {
   "cell_type": "markdown",
   "metadata": {},
   "source": [
    "#### Video of Algorithms <br>\n",
    "<p>Watch the video about algorithms.</p>\n",
    "\n",
    "https://www.youtube.com/watch?v=Q9HjeFD62Uk\n",
    "\n",
    "https://www.youtube.com/watch?v=kPRA0W1kECg\n",
    "\n",
    "https://www.youtube.com/watch?v=ZZuD6iUe3Pc"
   ]
  },
  {
   "cell_type": "markdown",
   "metadata": {},
   "source": [
    "# Sorting Algorithms"
   ]
  },
  {
   "cell_type": "markdown",
   "metadata": {},
   "source": [
    "#### Bubble Sort\n",
    "\n",
    "Worst Case: O(n^2) Time - O(1) Space"
   ]
  },
  {
   "cell_type": "code",
   "execution_count": null,
   "metadata": {},
   "outputs": [],
   "source": []
  },
  {
   "cell_type": "markdown",
   "metadata": {},
   "source": [
    "##### Insertion Sort\n",
    "\n",
    "Worst Case: O(n^2) time - O(1)space"
   ]
  },
  {
   "cell_type": "code",
   "execution_count": null,
   "metadata": {},
   "outputs": [],
   "source": []
  },
  {
   "cell_type": "markdown",
   "metadata": {},
   "source": [
    "## Merge Sort"
   ]
  },
  {
   "cell_type": "markdown",
   "metadata": {},
   "source": [
    "#### How it Works"
   ]
  },
  {
   "cell_type": "code",
   "execution_count": null,
   "metadata": {},
   "outputs": [],
   "source": []
  },
  {
   "cell_type": "markdown",
   "metadata": {},
   "source": [
    "# Binary Search\n",
    "\n",
    "The Binary Search algorithm works by finding the number in the middle of a given array and comparing it to the target. Given that the array is sorted\n",
    "\n",
    "* The worst case run time for this algorithm is `O(log(n))`"
   ]
  },
  {
   "cell_type": "code",
   "execution_count": null,
   "metadata": {},
   "outputs": [],
   "source": []
  },
  {
   "cell_type": "markdown",
   "metadata": {},
   "source": [
    "# Exercises"
   ]
  },
  {
   "cell_type": "markdown",
   "metadata": {},
   "source": [
    "### Exercise #1 <br>\n",
    "<p>Reverse the list below in-place using an in-place algorithm.<br>For extra credit: Reverse the strings at the same time.</p>"
   ]
  },
  {
   "cell_type": "code",
   "execution_count": 7,
   "metadata": {},
   "outputs": [
    {
     "name": "stdout",
     "output_type": "stream",
     "text": [
      "Reversed list with reversed strings: ['.', 'ecnetnes', 'a', 'si', 'siht']\n"
     ]
    }
   ],
   "source": [
    "words = ['this' , 'is', 'a', 'sentence', '.']\n",
    "\n",
    "def reverse_list_and_strings_in_place(rawr):\n",
    "    # Reverse the entire list, this was pretty easy just looked up the reverse method\n",
    "    rawr.reverse()\n",
    "\n",
    "    # Reverse the individual strings in-place, this confused me so let me make sure i understand\n",
    "    # for creates a for loop so now its checking each indice in the list, \n",
    "    # i is the variable, why do we always use i ?????\n",
    "    # the range function is called (start, stop, step) and only starts? if you could elaborate on this again please?\n",
    "    # the length function returns the length of the list so its counting everything in it and prepping it to be modified, \n",
    "    #  rawr[i] = rawr[i][::-1] this line is where my confusion is, when i look it up it says : \n",
    "    # (This line accesses the element at index i in the list) so the element at i would be the 0 position in the list???\n",
    "    # it then continues: which is a string. It then uses slicing ([::-1]) to reverse that string, so this causes the list\n",
    "    # rawr[i] that was defined in the for loop, to be modifed further by = it to itself but by activating the slicing method\n",
    "    # the slicing method can remove a part of a list for example i put in ([1:4]) this would give me everything from postion\n",
    "    # 2 through 5 but drop the rest it also works in reverse ([2:-2]) this would start at psotion 3 and end going the \n",
    "    # opposit direction by -2 spaces. So am i correct in assuming that the [::-1] is the step in the range function telling\n",
    "    # the range function we are going backwards? or would it go backwards without the range function??? i guess can you index\n",
    "    # a list without the range function in this way?\n",
    "    for i in range(len(rawr)):\n",
    "        rawr[i] = rawr[i][::-1]\n",
    "\n",
    "# then of course its simple just call the function with the list nad brint the result.\n",
    "# sorry lots of questions i know but i want to make sure im wrapping my head around it correctly.\n",
    "\n",
    "reverse_list_and_strings_in_place(words)\n",
    "\n",
    "print(\"Reversed list with reversed strings:\", words)"
   ]
  },
  {
   "cell_type": "markdown",
   "metadata": {},
   "source": [
    "### Exercise #2 <br>\n",
    "<p>Create a function that counts how many distinct words are in the string below, then outputs a dictionary with the words as the key and the value as the amount of times that word appears in the string.<br>Should output:<br>{'a': 5,<br>\n",
    " 'abstract': 1,<br>\n",
    " 'an': 3,<br>\n",
    " 'array': 2, ... etc...</p>"
   ]
  },
  {
   "cell_type": "code",
   "execution_count": null,
   "metadata": {},
   "outputs": [],
   "source": [
    "a_text = 'In computing, a hash table hash map is a data structure which implements an associative array abstract data type, a structure that can map keys to values. A hash table uses a hash function to compute an index into an array of buckets or slots from which the desired value can be found'\n",
    "\n"
   ]
  },
  {
   "cell_type": "markdown",
   "metadata": {},
   "source": [
    "## Exercise #3\n",
    "\n",
    "Write a program to implement a Linear Search Algorithm. Also in a comment, write the Time Complexity of the following algorithm.\n",
    "\n",
    "#### Hint: Linear Searching will require searching a list for a given number. "
   ]
  },
  {
   "cell_type": "code",
   "execution_count": null,
   "metadata": {},
   "outputs": [],
   "source": []
  }
 ],
 "metadata": {
  "kernelspec": {
   "display_name": "Python 3 (ipykernel)",
   "language": "python",
   "name": "python3"
  },
  "language_info": {
   "codemirror_mode": {
    "name": "ipython",
    "version": 3
   },
   "file_extension": ".py",
   "mimetype": "text/x-python",
   "name": "python",
   "nbconvert_exporter": "python",
   "pygments_lexer": "ipython3",
   "version": "3.11.5"
  }
 },
 "nbformat": 4,
 "nbformat_minor": 2
}
